{
 "cells": [
  {
   "cell_type": "markdown",
   "metadata": {
    "colab": {},
    "colab_type": "code",
    "id": "sYJpczaYTsV2"
   },
   "source": [
    "# Natural Language Processing (NLP)\n",
    "\n",
    "\n",
    "\n",
    "\n",
    "\n",
    "\n",
    "\n",
    "# Sentimental Analysis Model  Using DNN (TensorFlow )\n",
    "\n",
    "This model is Trained to  Understand Reviews given by the Customers of a Restaurant and Classify\n",
    "them as Positive or Negative .\n",
    "\n",
    "Working of the MODEL---\n",
    "\n",
    "Being a Supervised Learning Problem We provide it with a labled Dataset from Restaurant_Reviews.tsv. \n",
    "\n",
    "We First Do the Preprocessing of the Text data and Convert it into \n",
    "Meachine Understandable Language .\n",
    "\n",
    "To make our Model Robust we will be looking at using a word level Recurrent Neural Network (RNN) and Embedding the vocab.\n",
    "\n",
    "We will also Try to play with the HYPERPARAMETERS with the help of Graphs.\n",
    "\n"
   ]
  },
  {
   "cell_type": "markdown",
   "metadata": {},
   "source": [
    "# TEXT PREPROCESSING\n",
    "\n",
    "Importing the libraries "
   ]
  },
  {
   "cell_type": "code",
   "execution_count": 1,
   "metadata": {
    "colab": {},
    "colab_type": "code",
    "id": "9GpPkeTmhk96"
   },
   "outputs": [],
   "source": [
    "import tensorflow as tf\n",
    "import pandas as pd\n",
    "from tensorflow.keras.models import Sequential\n",
    "from tensorflow.keras.layers import Dense, Embedding,LSTM\n",
    "import numpy as np"
   ]
  },
  {
   "cell_type": "code",
   "execution_count": 2,
   "metadata": {
    "colab": {},
    "colab_type": "code",
    "id": "q16cW5HfiQOs"
   },
   "outputs": [],
   "source": [
    "data=pd.read_csv('D:/User/Desktop/Restaurant_Reviews.tsv',delimiter='\\t',quoting=3)"
   ]
  },
  {
   "cell_type": "markdown",
   "metadata": {},
   "source": [
    "Storing the Revives in the xx Variable"
   ]
  },
  {
   "cell_type": "code",
   "execution_count": 3,
   "metadata": {
    "colab": {},
    "colab_type": "code",
    "id": "RzzcISm4sFus"
   },
   "outputs": [],
   "source": [
    "xx=data.iloc[:,0]"
   ]
  },
  {
   "cell_type": "markdown",
   "metadata": {},
   "source": [
    "The Keras Tokenizer Method does the Hard Work for us By Removing all the unwanted characters' from the Text and Then\n",
    "Converting it into sequence of Tokens."
   ]
  },
  {
   "cell_type": "code",
   "execution_count": 4,
   "metadata": {
    "colab": {},
    "colab_type": "code",
    "id": "2lg0LWfOk7N0"
   },
   "outputs": [],
   "source": [
    "token=tf.keras.preprocessing.text.Tokenizer(filters='!\"#$%&()*+,-./:;<=>?@[\\\\]^_`{|}~\\t\\n',lower=True,split=' ')\n"
   ]
  },
  {
   "cell_type": "code",
   "execution_count": 5,
   "metadata": {
    "colab": {},
    "colab_type": "code",
    "id": "-IizEknTr6KE"
   },
   "outputs": [],
   "source": [
    "token.fit_on_texts(xx)\n",
    "xx=token.texts_to_sequences(xx)"
   ]
  },
  {
   "cell_type": "markdown",
   "metadata": {},
   "source": [
    "Lets us see the First Sentence in the After getting Tokanized."
   ]
  },
  {
   "cell_type": "code",
   "execution_count": 6,
   "metadata": {},
   "outputs": [
    {
     "data": {
      "text/plain": [
       "[428, 165, 8, 15]"
      ]
     },
     "execution_count": 6,
     "metadata": {},
     "output_type": "execute_result"
    }
   ],
   "source": [
    "xx[0]"
   ]
  },
  {
   "cell_type": "markdown",
   "metadata": {},
   "source": [
    "Now let's Calculate The length of the Largest Sentence"
   ]
  },
  {
   "cell_type": "code",
   "execution_count": 7,
   "metadata": {
    "colab": {},
    "colab_type": "code",
    "id": "LVIx2sUmsXmM"
   },
   "outputs": [
    {
     "data": {
      "text/plain": [
       "32"
      ]
     },
     "execution_count": 7,
     "metadata": {},
     "output_type": "execute_result"
    }
   ],
   "source": [
    "le=0\n",
    "for e in xx:\n",
    "  if le<len(e):\n",
    "    le=len(e)\n",
    "max_len=le\n",
    "max_len"
   ]
  },
  {
   "cell_type": "markdown",
   "metadata": {},
   "source": [
    "Now let's see the Largest value of Vocab word To decide the Length of the Vocab to Make our Model Efficient and Fast . "
   ]
  },
  {
   "cell_type": "code",
   "execution_count": 8,
   "metadata": {
    "colab": {},
    "colab_type": "code",
    "id": "vS7HkK4Fs5-z"
   },
   "outputs": [
    {
     "data": {
      "text/plain": [
       "2071"
      ]
     },
     "execution_count": 8,
     "metadata": {},
     "output_type": "execute_result"
    }
   ],
   "source": [
    "\n",
    "t=0\n",
    "for ele in xx:\n",
    "  if max(ele)>t:\n",
    "    t=max(ele)\n",
    "vocab=t\n",
    "vocab"
   ]
  },
  {
   "cell_type": "markdown",
   "metadata": {},
   "source": [
    "Let's Make the Lengths  Same"
   ]
  },
  {
   "cell_type": "code",
   "execution_count": 9,
   "metadata": {
    "colab": {},
    "colab_type": "code",
    "id": "8oMLABnWsZd_"
   },
   "outputs": [],
   "source": [
    "xx=tf.keras.preprocessing.sequence.pad_sequences(xx,maxlen=le,padding='post')"
   ]
  },
  {
   "cell_type": "markdown",
   "metadata": {},
   "source": [
    "# MODEL PREPRATION"
   ]
  },
  {
   "cell_type": "code",
   "execution_count": 10,
   "metadata": {
    "colab": {},
    "colab_type": "code",
    "id": "dzMfmwVFtPYt"
   },
   "outputs": [],
   "source": [
    "from sklearn.model_selection import train_test_split\n",
    "x_train,x_test,y_train,y_test=train_test_split(xx,data.iloc[:,1],test_size=0.20,random_state=0)"
   ]
  },
  {
   "cell_type": "markdown",
   "metadata": {},
   "source": [
    "As saind we are using Word Embiding Concept and LSTM to make our Model Robust and Perform to a large examples"
   ]
  },
  {
   "cell_type": "code",
   "execution_count": 11,
   "metadata": {
    "colab": {},
    "colab_type": "code",
    "id": "IYcYpdnnw4EU"
   },
   "outputs": [],
   "source": [
    "model=Sequential() \n",
    "model.add(Embedding(input_dim=vocab+1,output_dim=10,input_length=max_len))\n",
    "model.add(LSTM(10, dropout=0.4, recurrent_dropout=0.4))\n",
    "model.add(Dense(1, activation='sigmoid'))"
   ]
  },
  {
   "cell_type": "code",
   "execution_count": 12,
   "metadata": {
    "colab": {},
    "colab_type": "code",
    "id": "n5EJvjKuKk3Z"
   },
   "outputs": [],
   "source": [
    "model.compile(loss='binary_crossentropy',\n",
    "              optimizer='adam',\n",
    "              metrics=['accuracy'])"
   ]
  },
  {
   "cell_type": "code",
   "execution_count": 157,
   "metadata": {
    "colab": {
     "base_uri": "https://localhost:8080/",
     "height": 728
    },
    "colab_type": "code",
    "id": "RHGrZkoKLCFI",
    "outputId": "ca6811b7-70e6-4714-cab0-9a1ef7bc69aa",
    "scrolled": true
   },
   "outputs": [
    {
     "name": "stdout",
     "output_type": "stream",
     "text": [
      "Epoch 1/20\n",
      "40/40 [==============================] - 1s 20ms/step - loss: 0.6932 - accuracy: 0.5025 - val_loss: 0.6930 - val_accuracy: 0.5300\n",
      "Epoch 2/20\n",
      "40/40 [==============================] - 1s 15ms/step - loss: 0.6933 - accuracy: 0.4925 - val_loss: 0.6931 - val_accuracy: 0.4850\n",
      "Epoch 3/20\n",
      "40/40 [==============================] - 1s 16ms/step - loss: 0.6928 - accuracy: 0.5138 - val_loss: 0.6929 - val_accuracy: 0.4850\n",
      "Epoch 4/20\n",
      "40/40 [==============================] - 1s 17ms/step - loss: 0.6928 - accuracy: 0.5013 - val_loss: 0.6929 - val_accuracy: 0.4850\n",
      "Epoch 5/20\n",
      "40/40 [==============================] - 1s 18ms/step - loss: 0.6918 - accuracy: 0.5150 - val_loss: 0.6923 - val_accuracy: 0.4850\n",
      "Epoch 6/20\n",
      "40/40 [==============================] - 1s 18ms/step - loss: 0.6890 - accuracy: 0.5350 - val_loss: 0.6874 - val_accuracy: 0.6050\n",
      "Epoch 7/20\n",
      "40/40 [==============================] - 1s 17ms/step - loss: 0.6569 - accuracy: 0.6438 - val_loss: 0.6454 - val_accuracy: 0.6750\n",
      "Epoch 8/20\n",
      "40/40 [==============================] - 1s 17ms/step - loss: 0.5261 - accuracy: 0.8188 - val_loss: 0.5684 - val_accuracy: 0.7350\n",
      "Epoch 9/20\n",
      "40/40 [==============================] - 1s 17ms/step - loss: 0.4397 - accuracy: 0.8525 - val_loss: 0.5311 - val_accuracy: 0.8150\n",
      "Epoch 10/20\n",
      "40/40 [==============================] - 1s 17ms/step - loss: 0.3584 - accuracy: 0.8950 - val_loss: 0.5074 - val_accuracy: 0.7950\n",
      "Epoch 11/20\n",
      "40/40 [==============================] - 1s 17ms/step - loss: 0.3426 - accuracy: 0.8875 - val_loss: 0.5551 - val_accuracy: 0.7800\n",
      "Epoch 12/20\n",
      "40/40 [==============================] - 1s 17ms/step - loss: 0.2945 - accuracy: 0.9175 - val_loss: 0.4815 - val_accuracy: 0.8100\n",
      "Epoch 13/20\n",
      "40/40 [==============================] - 1s 17ms/step - loss: 0.2478 - accuracy: 0.9400 - val_loss: 0.4884 - val_accuracy: 0.7950\n",
      "Epoch 14/20\n",
      "40/40 [==============================] - 1s 15ms/step - loss: 0.2753 - accuracy: 0.9038 - val_loss: 0.4852 - val_accuracy: 0.8150\n",
      "Epoch 15/20\n",
      "40/40 [==============================] - 1s 15ms/step - loss: 0.2734 - accuracy: 0.9038 - val_loss: 0.5117 - val_accuracy: 0.8050\n",
      "Epoch 16/20\n",
      "40/40 [==============================] - 1s 15ms/step - loss: 0.2264 - accuracy: 0.9350 - val_loss: 0.4983 - val_accuracy: 0.8100\n",
      "Epoch 17/20\n",
      "40/40 [==============================] - 1s 15ms/step - loss: 0.2268 - accuracy: 0.9312 - val_loss: 0.4983 - val_accuracy: 0.8200\n",
      "Epoch 18/20\n",
      "40/40 [==============================] - 1s 15ms/step - loss: 0.2030 - accuracy: 0.9438 - val_loss: 0.5027 - val_accuracy: 0.8300\n",
      "Epoch 19/20\n",
      "40/40 [==============================] - 1s 15ms/step - loss: 0.1814 - accuracy: 0.9525 - val_loss: 0.4940 - val_accuracy: 0.8250\n",
      "Epoch 20/20\n",
      "40/40 [==============================] - 1s 16ms/step - loss: 0.2128 - accuracy: 0.9325 - val_loss: 0.5007 - val_accuracy: 0.8350\n"
     ]
    }
   ],
   "source": [
    "mf=model.fit(x_train, y_train,\n",
    "          batch_size=15,\n",
    "          epochs=15,\n",
    "          validation_data=(x_test, y_test))"
   ]
  },
  {
   "cell_type": "code",
   "execution_count": 158,
   "metadata": {
    "colab": {
     "base_uri": "https://localhost:8080/",
     "height": 52
    },
    "colab_type": "code",
    "id": "JsXvtj2oLJl4",
    "outputId": "ff14a5e4-be61-48dc-8273-8bedb4a2b00f"
   },
   "outputs": [
    {
     "name": "stdout",
     "output_type": "stream",
     "text": [
      "7/7 [==============================] - 0s 3ms/step - loss: 0.5007 - accuracy: 0.8350\n"
     ]
    },
    {
     "data": {
      "text/plain": [
       "[0.5006871223449707, 0.8349999785423279]"
      ]
     },
     "execution_count": 158,
     "metadata": {
      "tags": []
     },
     "output_type": "execute_result"
    }
   ],
   "source": [
    "test_acc = model.evaluate(x_test,y_test)\n",
    "test_acc"
   ]
  },
  {
   "cell_type": "markdown",
   "metadata": {},
   "source": [
    "# TEST_ACCURACY :84%"
   ]
  },
  {
   "cell_type": "markdown",
   "metadata": {},
   "source": [
    "Graphs to understand the over all performance of the Model."
   ]
  },
  {
   "cell_type": "code",
   "execution_count": 160,
   "metadata": {
    "colab": {
     "base_uri": "https://localhost:8080/",
     "height": 283
    },
    "colab_type": "code",
    "id": "ElbKQwQRfHxh",
    "outputId": "efc4d5fa-3f65-49c2-b3bd-3c6455802e83"
   },
   "outputs": [
    {
     "data": {
      "text/plain": [
       "<matplotlib.legend.Legend at 0x7f14181c53c8>"
      ]
     },
     "execution_count": 160,
     "metadata": {
      "tags": []
     },
     "output_type": "execute_result"
    },
    {
     "data": {
      "image/png": "[encoded data removed]",
      "text/plain": [
       "<Figure size 432x288 with 1 Axes>"
      ]
     },
     "metadata": {
      "needs_background": "light",
      "tags": []
     },
     "output_type": "display_data"
    }
   ],
   "source": [
    "import matplotlib.pyplot as plt\n",
    "plt.plot(mf.epoch,mf.history['accuracy'],label='acc')\n",
    "plt.plot(mf.epoch,mf.history['val_accuracy'],label='val')\n",
    "plt.legend()"
   ]
  },
  {
   "cell_type": "code",
   "execution_count": 161,
   "metadata": {
    "colab": {
     "base_uri": "https://localhost:8080/",
     "height": 283
    },
    "colab_type": "code",
    "id": "YmurN7TniCYk",
    "outputId": "2cd4aeaa-5ee6-4680-d6f9-e5b8e161037f"
   },
   "outputs": [
    {
     "data": {
      "text/plain": [
       "<matplotlib.legend.Legend at 0x7f1414c686a0>"
      ]
     },
     "execution_count": 161,
     "metadata": {
      "tags": []
     },
     "output_type": "execute_result"
    },
    {
     "data": {
      "image/png": "[encoded data removed]",
      "text/plain": [
       "<Figure size 432x288 with 1 Axes>"
      ]
     },
     "metadata": {
      "needs_background": "light",
      "tags": []
     },
     "output_type": "display_data"
    }
   ],
   "source": [
    "plt.plot(mf.epoch,mf.history['loss'],label='acc')\n",
    "plt.plot(mf.epoch,mf.history['val_loss'],label='val')\n",
    "plt.legend()"
   ]
  },
  {
   "cell_type": "markdown",
   "metadata": {},
   "source": [
    "After playing with he Hyperparameters' the Model we have pretty much optained a Good Accuracy But as we can see Our\n",
    "Model still exibites some Overfitting ,That means there's  still scope of OPTIMIZATION."
   ]
  },
  {
   "cell_type": "markdown",
   "metadata": {},
   "source": [
    "# MAKING OUR OWN PREDICATIONES\n"
   ]
  },
  {
   "cell_type": "markdown",
   "metadata": {},
   "source": [
    "The Weights of the model is saved so we don't have to train it again.\n",
    "Loding the model weights"
   ]
  },
  {
   "cell_type": "code",
   "execution_count": 13,
   "metadata": {
    "colab": {},
    "colab_type": "code",
    "id": "Wz5G4_A_Qy22"
   },
   "outputs": [],
   "source": [
    "nmm=model.load_weights('D:/User/Desktop/NLP_Model_Weights.h5')"
   ]
  },
  {
   "cell_type": "markdown",
   "metadata": {},
   "source": [
    "Add the Sentences to Test the Model\n",
    "\n",
    "Below are Few Examples, I have Also tried to Trick the Model by Framing the few Sentences other way round.\n",
    "Whic it Have pretty much Passed."
   ]
  },
  {
   "cell_type": "code",
   "execution_count": 15,
   "metadata": {},
   "outputs": [],
   "source": [
    "ll = ['I Liked this .',\n",
    "'It is not that good as i thought it would be .','Above my expectations .','nice work .'\n",
    "    ,'Could have been some better .','expected more','Could not be better than this' ,\n",
    "    'This lookes nice','loved it','i love this','i do not love this']"
   ]
  },
  {
   "cell_type": "code",
   "execution_count": 18,
   "metadata": {
    "colab": {
     "base_uri": "https://localhost:8080/",
     "height": 106
    },
    "colab_type": "code",
    "id": "_iY0UPaYSY4x",
    "outputId": "8cf461e3-0b27-4139-9b72-815dde07251b"
   },
   "outputs": [
    {
     "name": "stdout",
     "output_type": "stream",
     "text": [
      "                                           Reviews    Liked\n",
      "0                                   I Liked this .   [True]\n",
      "1   It is not that good as i thought it would be .  [False]\n",
      "2                          Above my expectations .   [True]\n",
      "3                                      nice work .   [True]\n",
      "4                    Could have been some better .  [False]\n",
      "5                                    expected more  [False]\n",
      "6                    Could not be better than this  [False]\n",
      "7                                 This lookes nice   [True]\n",
      "8                                         loved it   [True]\n",
      "9                                      i love this   [True]\n",
      "10                              i do not love this  [False]\n"
     ]
    }
   ],
   "source": [
    "def output1(l,nmm):\n",
    "    \n",
    "    #model=nm\n",
    "    T=pd.DataFrame(l)\n",
    "    T=T.iloc[:,0]\n",
    "    x11=token.texts_to_sequences(T)\n",
    "    x1=tf.keras.preprocessing.sequence.pad_sequences(x11,maxlen=le,padding='post')\n",
    "    aa=model.predict(x1)\n",
    "    aa=aa>0.5\n",
    "    df=pd.DataFrame({'Reviews':list(l),'Liked':list(aa)})\n",
    "    print(df)\n",
    "\n",
    "\n",
    "output1(ll,nmm)"
   ]
  },
  {
   "cell_type": "markdown",
   "metadata": {},
   "source": [
    "# Results"
   ]
  },
  {
   "cell_type": "code",
   "execution_count": null,
   "metadata": {},
   "outputs": [],
   "source": []
  }
 ],
 "metadata": {
  "colab": {
   "collapsed_sections": [],
   "name": "Final _Sentimental Analysis_Model",
   "provenance": []
  },
  "kernelspec": {
   "display_name": "Python 3",
   "language": "python",
   "name": "python3"
  },
  "language_info": {
   "codemirror_mode": {
    "name": "ipython",
    "version": 3
   },
   "file_extension": ".py",
   "mimetype": "text/x-python",
   "name": "python",
   "nbconvert_exporter": "python",
   "pygments_lexer": "ipython3",
   "version": "3.7.4"
  }
 },
 "nbformat": 4,
 "nbformat_minor": 1
}
